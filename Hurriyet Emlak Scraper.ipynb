{
 "cells": [
  {
   "cell_type": "code",
   "execution_count": 1,
   "metadata": {},
   "outputs": [],
   "source": [
    "import requests\n",
    "from bs4 import BeautifulSoup\n",
    "from tqdm import tqdm\n",
    "import json\n",
    "import string\n",
    "import time,os\n",
    "import numpy as np\n",
    "import pandas as pd\n",
    "import re\n",
    "\n",
    "import requests\n",
    "import time, os\n",
    "\n",
    "from selenium import webdriver\n",
    "from selenium.webdriver import Chrome\n",
    "from selenium.webdriver.common.keys import Keys"
   ]
  },
  {
   "cell_type": "code",
   "execution_count": 2,
   "metadata": {},
   "outputs": [],
   "source": [
    "driver_path=\"C:\\\\Users\\\\easan\\\\chromedriver.exe\"\n",
    "driver=webdriver.Chrome(driver_path)"
   ]
  },
  {
   "cell_type": "code",
   "execution_count": 3,
   "metadata": {},
   "outputs": [
    {
     "data": {
      "text/plain": [
       "200"
      ]
     },
     "execution_count": 3,
     "metadata": {},
     "output_type": "execute_result"
    }
   ],
   "source": [
    "url=\"https://www.hurriyetemlak.com/ankara-satilik\"\n",
    "driver.get(url)\n",
    "r=requests.get(url)\n",
    "if r.status_code == 429:\n",
    "    time.sleep(int(r.headers[\"Retry-After\"]))\n",
    "r.status_code"
   ]
  },
  {
   "cell_type": "code",
   "execution_count": 4,
   "metadata": {},
   "outputs": [],
   "source": [
    "soup=BeautifulSoup(r.content,\"lxml\")\n",
    "pages=soup.find_all(\"ul\",{\"class\":\"pagination\"})[0].find_all(\"li\")\n",
    "page_count=int(pages[-2].text) #sonraki sayfadan bir önce olan tüm sayfa sayısıdır"
   ]
  },
  {
   "cell_type": "code",
   "execution_count": 5,
   "metadata": {},
   "outputs": [
    {
     "data": {
      "text/plain": [
       "1401"
      ]
     },
     "execution_count": 5,
     "metadata": {},
     "output_type": "execute_result"
    }
   ],
   "source": [
    "page_count"
   ]
  },
  {
   "cell_type": "code",
   "execution_count": 6,
   "metadata": {},
   "outputs": [],
   "source": [
    "props_dict = {'listing_id':[],'price':[],'city':[],'district':[],'neighborhood':[],'last_edit': [],'listing_status':[],'housing_type':[],'number_of_rooms':[], 'area': [], 'prop_floor': [], 'building_age': [], 'heating_type': [],\n",
    "              'building_floors': [], 'credit_availability': [], 'furniture_availability': [], 'bathrooms': [],\n",
    "              'building_type': [], 'building_status': [], 'usage_status': [], 'deed': [], 'dues': [], 'swap': [],\n",
    "               'facade': [], 'fuel_type': [],'inside_the_site':[],'rental_income':[],'title':[]}"
   ]
  },
  {
   "cell_type": "code",
   "execution_count": 7,
   "metadata": {},
   "outputs": [],
   "source": [
    "def det_title_upper_func(det_title_upper):\n",
    "    price='None'\n",
    "    title='None'\n",
    "    \n",
    "    price=det_title_upper.find(\"p\",{\"class\":\"price\"}).text.strip()\n",
    "    title=det_title_upper.find(\"h1\").text.strip()\n",
    "    \n",
    "    props_dict['price'].append(price) \n",
    "    props_dict['title'].append(title) "
   ]
  },
  {
   "cell_type": "code",
   "execution_count": 8,
   "metadata": {},
   "outputs": [],
   "source": [
    "def short_info_list_func(short_info_list):\n",
    "    city = 'None'\n",
    "    district = 'None'\n",
    "    neighborhood = 'None'\n",
    "    area = 'None'\n",
    "\n",
    "    i=1\n",
    "        \n",
    "    for li in short_info_list:\n",
    "        if(i==1):\n",
    "            city = li.text.strip()\n",
    "        elif(i==2):\n",
    "            district = li.text.strip()\n",
    "        elif(i==3):\n",
    "            neighborhood = li.text.strip()\n",
    "        elif(i==7):\n",
    "            area = li.text.strip()\n",
    "        i = i + 1\n",
    "    \n",
    "    props_dict['city'].append(city)        \n",
    "    props_dict['district'].append(district)\n",
    "    props_dict['neighborhood'].append(neighborhood)\n",
    "    props_dict['area'].append(area)"
   ]
  },
  {
   "cell_type": "code",
   "execution_count": 9,
   "metadata": {},
   "outputs": [],
   "source": [
    "def add_info_list_func(add_info_list):\n",
    "    listing_id= 'None'\n",
    "    last_edit = 'None'\n",
    "    listing_status='None'\n",
    "    housing_type='None'\n",
    "    number_of_rooms='None'\n",
    "    prop_floor = 'None'\n",
    "    building_age = 'None'\n",
    "    heating_type = 'None'\n",
    "    building_floors = 'None'\n",
    "    credit_availability = 'None'\n",
    "    furniture_availability = 'None'\n",
    "    bathrooms = 'None'\n",
    "    building_type = 'None'\n",
    "    building_status = 'None'\n",
    "    usage_status = 'None'\n",
    "    deed = 'None'\n",
    "    dues = 'None'\n",
    "    swap = 'None'\n",
    "    student_single = 'None'\n",
    "    facade = 'None'\n",
    "    fuel_type = 'None'\n",
    "    inside_the_site='None'\n",
    "    rental_income='None'\n",
    "\n",
    "\n",
    "        \n",
    "    for li in add_info_list:\n",
    "        param=li.find_all(\"span\")\n",
    "        param_type=param[0].text.strip()\n",
    "        param_value=param[1].text.strip()\n",
    "        \n",
    "        if(param_type=='İlan no'):\n",
    "            listing_id = param_value\n",
    "        elif(param_type=='Son Güncelleme Tarihi'):\n",
    "            last_edit = param_value\n",
    "        elif(param_type=='İlan Durumu'):\n",
    "            listing_status = param_value\n",
    "        elif(param_type=='Konut Şekli'):\n",
    "            housing_type = param_value\n",
    "        elif(param_type=='Oda + Salon Sayısı'):\n",
    "            number_of_rooms = param_value\n",
    "        elif(param_type=='Bulunduğu Kat'):\n",
    "            prop_floor = param_value\n",
    "        elif(param_type=='Bina Yaşı'):\n",
    "            building_age = param_value\n",
    "        elif(param_type=='Isınma Tipi'):\n",
    "            heating_type = param_value\n",
    "        elif(param_type=='Kat Sayısı'):\n",
    "            building_floors = param_value\n",
    "        elif(param_type=='Krediye Uygunluk'):\n",
    "            credit_availability = param_value\n",
    "        elif(param_type=='Eşya Durumu'):\n",
    "            furniture_availability = param_value\n",
    "        elif(param_type=='Banyo Sayısı'):\n",
    "            bathrooms = param_value\n",
    "        elif(param_type=='Yapı Tipi'):\n",
    "            building_type = param_value\n",
    "        elif(param_type=='Yapının Durumu'):\n",
    "            building_status = param_value\n",
    "        elif(param_type=='Kullanım Durumu'):\n",
    "            usage_status = param_value\n",
    "        elif(param_type=='Tapu Durumu'):\n",
    "            deed = param_value\n",
    "        elif(param_type=='Aidat'):\n",
    "            dues = param_value\n",
    "        elif(param_type=='Takas'):\n",
    "            swap = param_value\n",
    "        elif(param_type=='Cephe'):\n",
    "            facade = param_value\n",
    "        elif(param_type=='Site İçerisinde'):\n",
    "            inside_the_site = param_value\n",
    "        elif(param_type=='Kira Getirisi'):\n",
    "            rental_income = param_value\n",
    "        elif(param_type=='Yakıt Tipi'):\n",
    "            fuel_type = param_value\n",
    "            \n",
    "    props_dict['listing_id'].append(listing_id)        \n",
    "    props_dict['last_edit'].append(last_edit)\n",
    "    props_dict['listing_status'].append(listing_status)\n",
    "    props_dict['housing_type'].append(housing_type)\n",
    "    props_dict['number_of_rooms'].append(number_of_rooms)\n",
    "    props_dict['prop_floor'].append(prop_floor)\n",
    "    props_dict['building_age'].append(building_age)\n",
    "    props_dict['heating_type'].append(heating_type)\n",
    "    props_dict['building_floors'].append(building_floors)\n",
    "    props_dict['credit_availability'].append(credit_availability)\n",
    "    props_dict['furniture_availability'].append(furniture_availability)\n",
    "    props_dict['bathrooms'].append(bathrooms)\n",
    "    props_dict['building_type'].append(building_type)\n",
    "    props_dict['building_status'].append(building_status)\n",
    "    props_dict['usage_status'].append(usage_status)\n",
    "    props_dict['deed'].append(deed)\n",
    "    props_dict['dues'].append(dues)\n",
    "    props_dict['swap'].append(swap)\n",
    "    props_dict['facade'].append(facade)\n",
    "    props_dict['fuel_type'].append(fuel_type)\n",
    "    props_dict['inside_the_site'].append(inside_the_site)\n",
    "    props_dict['rental_income'].append(rental_income)\n",
    "    "
   ]
  },
  {
   "cell_type": "code",
   "execution_count": 10,
   "metadata": {
    "scrolled": false
   },
   "outputs": [],
   "source": [
    "\n",
    "\n",
    "for page in range(1025,1052):#page_count+1\n",
    "    \n",
    "    url_home_page=url+\"?page={}\".format(page)\n",
    "    driver=webdriver.Chrome(driver_path)\n",
    "    driver.get(url_home_page)\n",
    "    \n",
    "    pageRequest=requests.get(url+\"?page={}\".format(page),headers = {'User-agent': 'your bot 0.1'})\n",
    "    \n",
    "    if pageRequest.status_code == 429:\n",
    "          time.sleep(int(pageRequest.headers[\"Retry-After\"]))\n",
    "            \n",
    "    #print(pageRequest.url)\n",
    "    pageSoup=BeautifulSoup(pageRequest.content,\"lxml\")\n",
    "    links=pageSoup.findAll(\"a\",{\"class\":\"card-link\"})\n",
    "    for link in links:\n",
    "        \n",
    "        homeLink=\"https://www.hurriyetemlak.com\"+link.get(\"href\")\n",
    "\n",
    "        homeR=requests.get(homeLink,headers = {'User-agent': 'your bot 0.1'})\n",
    "        homeR.status_code\n",
    "        homeSoup=BeautifulSoup(homeR.content,\"lxml\")\n",
    "        \n",
    "        home_features=homeSoup.find(\"section\",{\"class\":\"det-block\"})\n",
    "\n",
    "        add_info_list=home_features.find(\"ul\",{\"class\":\"adv-info-list\"}).find_all(\"li\")\n",
    "        short_info_list=home_features.find(\"ul\",{\"class\":\"short-info-list\"}).find_all(\"li\")\n",
    "        det_title_upper=home_features.find(\"div\",{\"class\":\"det-title-upper\"})\n",
    "        \n",
    "        \n",
    "        add_info_list_func(add_info_list)\n",
    "        short_info_list_func(short_info_list)\n",
    "        det_title_upper_func(det_title_upper)\n",
    "        \n",
    "        \n",
    "driver.close()"
   ]
  },
  {
   "cell_type": "code",
   "execution_count": 11,
   "metadata": {},
   "outputs": [
    {
     "name": "stdout",
     "output_type": "stream",
     "text": [
      "name:listing_id size: 648\n",
      "name:price size: 648\n",
      "name:city size: 648\n",
      "name:district size: 648\n",
      "name:neighborhood size: 648\n",
      "name:last_edit size: 648\n",
      "name:listing_status size: 648\n",
      "name:housing_type size: 648\n",
      "name:number_of_rooms size: 648\n",
      "name:area size: 648\n",
      "name:prop_floor size: 648\n",
      "name:building_age size: 648\n",
      "name:heating_type size: 648\n",
      "name:building_floors size: 648\n",
      "name:credit_availability size: 648\n",
      "name:furniture_availability size: 648\n",
      "name:bathrooms size: 648\n",
      "name:building_type size: 648\n",
      "name:building_status size: 648\n",
      "name:usage_status size: 648\n",
      "name:deed size: 648\n",
      "name:dues size: 648\n",
      "name:swap size: 648\n",
      "name:facade size: 648\n",
      "name:fuel_type size: 648\n",
      "name:inside_the_site size: 648\n",
      "name:rental_income size: 648\n",
      "name:title size: 648\n"
     ]
    }
   ],
   "source": [
    "for key in props_dict.keys():\n",
    "    print('name:{} size: {}'.format(key,len(props_dict[key])))"
   ]
  },
  {
   "cell_type": "code",
   "execution_count": 12,
   "metadata": {},
   "outputs": [],
   "source": [
    "df=pd.DataFrame(props_dict)"
   ]
  },
  {
   "cell_type": "code",
   "execution_count": 13,
   "metadata": {},
   "outputs": [],
   "source": [
    "df.to_csv(\"hurriyetEmlak14.csv\")"
   ]
  }
 ],
 "metadata": {
  "kernelspec": {
   "display_name": "Python 3",
   "language": "python",
   "name": "python3"
  },
  "language_info": {
   "codemirror_mode": {
    "name": "ipython",
    "version": 3
   },
   "file_extension": ".py",
   "mimetype": "text/x-python",
   "name": "python",
   "nbconvert_exporter": "python",
   "pygments_lexer": "ipython3",
   "version": "3.8.5"
  }
 },
 "nbformat": 4,
 "nbformat_minor": 4
}
